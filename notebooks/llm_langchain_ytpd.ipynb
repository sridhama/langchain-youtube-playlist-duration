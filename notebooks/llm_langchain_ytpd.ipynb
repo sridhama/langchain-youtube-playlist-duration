{
  "cells": [
    {
      "cell_type": "code",
      "execution_count": 1,
      "metadata": {
        "colab": {
          "base_uri": "https://localhost:8080/"
        },
        "id": "pg_tJ4ztCvgT",
        "outputId": "a596fe67-c459-4672-f8a6-1e9ca04fb09d"
      },
      "outputs": [
        {
          "name": "stdout",
          "output_type": "stream",
          "text": [
            "Requirement already satisfied: yt-dlp in /usr/local/lib/python3.10/dist-packages (2023.7.6)\n",
            "Requirement already satisfied: mutagen in /usr/local/lib/python3.10/dist-packages (from yt-dlp) (1.46.0)\n",
            "Requirement already satisfied: pycryptodomex in /usr/local/lib/python3.10/dist-packages (from yt-dlp) (3.18.0)\n",
            "Requirement already satisfied: websockets in /usr/local/lib/python3.10/dist-packages (from yt-dlp) (11.0.3)\n",
            "Requirement already satisfied: certifi in /usr/local/lib/python3.10/dist-packages (from yt-dlp) (2023.7.22)\n",
            "Requirement already satisfied: brotli in /usr/local/lib/python3.10/dist-packages (from yt-dlp) (1.0.9)\n"
          ]
        }
      ],
      "source": [
        "!pip install yt-dlp\n",
        "!pip install langchain\n",
        "!pip install openai"
      ]
    },
    {
      "cell_type": "markdown",
      "metadata": {
        "id": "p2v0Mow7bdB6"
      },
      "source": [
        "### Create function for retrieving the duration of a YouTube playlist"
      ]
    },
    {
      "cell_type": "code",
      "execution_count": 2,
      "metadata": {
        "id": "GUIpLuHSDheZ"
      },
      "outputs": [],
      "source": [
        "import yt_dlp"
      ]
    },
    {
      "cell_type": "code",
      "execution_count": 40,
      "metadata": {
        "id": "iUUHeI3xCy7Z"
      },
      "outputs": [],
      "source": [
        "def seconds_to_hms(seconds: int) -> str:\n",
        "    hours = seconds // 3600\n",
        "    minutes = (seconds % 3600) // 60\n",
        "    seconds = seconds % 60\n",
        "    return f'{hours:02d}:{minutes:02d}:{seconds:02d}'\n",
        "\n",
        "def get_total_playlist_duration(playlist_url: str) -> str:\n",
        "    ydl = yt_dlp.YoutubeDL(params={'quiet': True})\n",
        "    info = ydl.extract_info(url=playlist_url, download=False)\n",
        "    video_durations = [video['duration'] for video in info['entries']]\n",
        "    return seconds_to_hms(sum(video_durations))"
      ]
    },
    {
      "cell_type": "markdown",
      "metadata": {
        "id": "4jxOT_jCbkOB"
      },
      "source": [
        "### Use LangChain for creating an agent that interacts with a custom tool"
      ]
    },
    {
      "cell_type": "code",
      "execution_count": 59,
      "metadata": {
        "id": "9ILYbFpoMhX8"
      },
      "outputs": [],
      "source": [
        "from langchain.chat_models import ChatOpenAI\n",
        "from langchain.agents import initialize_agent, tools\n",
        "from langchain.agents import AgentType, Tool"
      ]
    },
    {
      "cell_type": "code",
      "execution_count": 60,
      "metadata": {
        "id": "ohbxRUnpNrb1"
      },
      "outputs": [],
      "source": [
        "OPENAI_API_KEY = 'YOUR_API_KEY'"
      ]
    },
    {
      "cell_type": "code",
      "execution_count": 57,
      "metadata": {
        "id": "5I1tGYfwMnDV"
      },
      "outputs": [],
      "source": [
        "@tool\n",
        "def ytpd(playlist_url: str) -> str:\n",
        "    \"\"\"Returns the duration of YouTube playlist with URL {playlist_url}. \\\n",
        "    Use this tool for any questions related to finding the duration of a \\\n",
        "    YouTube playlist. The input is {playlist_url} the URL to the YouTube \\\n",
        "    playlist, and the output is the playlist duration as a string in the \\\n",
        "    `HH:MM:SS` format.\"\"\"\n",
        "    return get_total_playlist_duration(playlist_url)\n",
        "\n",
        "tools = [Tool(name = \"YTPD\",\n",
        "              func=ytpd,\n",
        "              description=\"Returns the duration of YouTube playlist with URL {playlist_url}. \\\n",
        "                    Use this tool for any questions related to finding the duration of a \\\n",
        "                    YouTube playlist. The input is {playlist_url} the URL to the YouTube \\\n",
        "                    playlist, and the output is the playlist duration as a string in the \\\n",
        "                    `HH:MM:SS` format.\"\n",
        "              )]"
      ]
    },
    {
      "cell_type": "code",
      "execution_count": 61,
      "metadata": {
        "id": "6c-soCBoNo2H"
      },
      "outputs": [],
      "source": [
        "llm = ChatOpenAI(temperature=0,\n",
        "                 openai_api_key=OPENAI_API_KEY)"
      ]
    },
    {
      "cell_type": "code",
      "execution_count": 68,
      "metadata": {
        "id": "XUOvKkm0W8oi"
      },
      "outputs": [],
      "source": [
        "agent = initialize_agent(tools, llm,\n",
        "                         agent=AgentType.OPENAI_FUNCTIONS,\n",
        "                         verbose=True)"
      ]
    },
    {
      "cell_type": "markdown",
      "metadata": {
        "id": "Kqhj8xzwb-AB"
      },
      "source": [
        "### Interact with agent"
      ]
    },
    {
      "cell_type": "code",
      "execution_count": 74,
      "metadata": {
        "id": "AclPSz-y8PaE"
      },
      "outputs": [],
      "source": [
        "playlist_urls = ['https://www.youtube.com/playlist?list=PLZHQObOWTQDPD3MizzM2xVFitgF8hE_ab',\n",
        "                 'https://www.youtube.com/playlist?list=PLZHQObOWTQDMsr9K-rj53DwVRMYO3t5Yr',\n",
        "                 'https://www.youtube.com/playlist?list=PLZHQObOWTQDNU6R1_67000Dx_ZCJB-3pi'\n",
        "                 ]"
      ]
    },
    {
      "cell_type": "code",
      "execution_count": 75,
      "metadata": {
        "colab": {
          "base_uri": "https://localhost:8080/",
          "height": 209
        },
        "id": "F-xeoW0VW8mM",
        "outputId": "4a52ab0a-1a77-4b66-a1cd-842b0a59f3f0"
      },
      "outputs": [
        {
          "name": "stdout",
          "output_type": "stream",
          "text": [
            "\n",
            "\n",
            "\u001b[1m> Entering new AgentExecutor chain...\u001b[0m\n",
            "\u001b[32;1m\u001b[1;3m\n",
            "Invoking: `YTPD` with `{'playlist_url': 'https://www.youtube.com/playlist?list=PLZHQObOWTQDNU6R1_67000Dx_ZCJB-3pi'}`\n",
            "\n",
            "\n",
            "\u001b[0m\u001b[36;1m\u001b[1;3m01:02:16\u001b[0m\u001b[32;1m\u001b[1;3mThe duration of the playlist is 01:02:16.\u001b[0m\n",
            "\n",
            "\u001b[1m> Finished chain.\u001b[0m\n"
          ]
        },
        {
          "data": {
            "application/vnd.google.colaboratory.intrinsic+json": {
              "type": "string"
            },
            "text/plain": [
              "'The duration of the playlist is 01:02:16.'"
            ]
          },
          "execution_count": 75,
          "metadata": {},
          "output_type": "execute_result"
        }
      ],
      "source": [
        "agent.run(f'What is the duration of this playlist?: {playlist_urls[-1]}')"
      ]
    },
    {
      "cell_type": "code",
      "execution_count": 76,
      "metadata": {
        "colab": {
          "base_uri": "https://localhost:8080/",
          "height": 278
        },
        "id": "MCALmqPOZRDW",
        "outputId": "e4b6b7ed-7e27-4e06-b58e-d740ad889269"
      },
      "outputs": [
        {
          "name": "stdout",
          "output_type": "stream",
          "text": [
            "\n",
            "\n",
            "\u001b[1m> Entering new AgentExecutor chain...\u001b[0m\n",
            "\u001b[32;1m\u001b[1;3m\n",
            "Invoking: `YTPD` with `{'playlist_url': 'https://www.youtube.com/playlist?list=PLZHQObOWTQDPD3MizzM2xVFitgF8hE_ab'}`\n",
            "\n",
            "\n",
            "\u001b[0m\u001b[36;1m\u001b[1;3m03:00:45\u001b[0m\u001b[32;1m\u001b[1;3m\n",
            "Invoking: `YTPD` with `{'playlist_url': 'https://www.youtube.com/playlist?list=PLZHQObOWTQDMsr9K-rj53DwVRMYO3t5Yr'}`\n",
            "\n",
            "\n",
            "\u001b[0m\u001b[36;1m\u001b[1;3m03:11:01\u001b[0m\u001b[32;1m\u001b[1;3mThe duration of the first playlist is 03:00:45 and the duration of the second playlist is 03:11:01.\u001b[0m\n",
            "\n",
            "\u001b[1m> Finished chain.\u001b[0m\n"
          ]
        },
        {
          "data": {
            "application/vnd.google.colaboratory.intrinsic+json": {
              "type": "string"
            },
            "text/plain": [
              "'The duration of the first playlist is 03:00:45 and the duration of the second playlist is 03:11:01.'"
            ]
          },
          "execution_count": 76,
          "metadata": {},
          "output_type": "execute_result"
        }
      ],
      "source": [
        "agent.run(f'What is the duration of these two playlists?: {playlist_urls[0]} and {playlist_urls[1]}')"
      ]
    },
    {
      "cell_type": "code",
      "execution_count": 78,
      "metadata": {
        "colab": {
          "base_uri": "https://localhost:8080/",
          "height": 348
        },
        "id": "oANeHDPNZnUQ",
        "outputId": "783ca38c-7712-4ee6-cd08-f9a8b31c6147"
      },
      "outputs": [
        {
          "name": "stdout",
          "output_type": "stream",
          "text": [
            "\n",
            "\n",
            "\u001b[1m> Entering new AgentExecutor chain...\u001b[0m\n",
            "\u001b[32;1m\u001b[1;3m\n",
            "Invoking: `YTPD` with `{'playlist_url': 'https://www.youtube.com/playlist?list=PLZHQObOWTQDPD3MizzM2xVFitgF8hE_ab'}`\n",
            "\n",
            "\n",
            "\u001b[0m\u001b[36;1m\u001b[1;3m03:00:45\u001b[0m\u001b[32;1m\u001b[1;3m\n",
            "Invoking: `YTPD` with `{'playlist_url': 'https://www.youtube.com/playlist?list=PLZHQObOWTQDMsr9K-rj53DwVRMYO3t5Yr'}`\n",
            "\n",
            "\n",
            "\u001b[0m\u001b[36;1m\u001b[1;3m03:11:01\u001b[0m\u001b[32;1m\u001b[1;3m\n",
            "Invoking: `YTPD` with `{'playlist_url': 'https://www.youtube.com/playlist?list=PLZHQObOWTQDNU6R1_67000Dx_ZCJB-3pi'}`\n",
            "\n",
            "\n",
            "\u001b[0m\u001b[36;1m\u001b[1;3m01:02:16\u001b[0m\u001b[32;1m\u001b[1;3mThe duration of all three playlists combined is 07:14:02.\u001b[0m\n",
            "\n",
            "\u001b[1m> Finished chain.\u001b[0m\n"
          ]
        },
        {
          "data": {
            "application/vnd.google.colaboratory.intrinsic+json": {
              "type": "string"
            },
            "text/plain": [
              "'The duration of all three playlists combined is 07:14:02.'"
            ]
          },
          "execution_count": 78,
          "metadata": {},
          "output_type": "execute_result"
        }
      ],
      "source": [
        "agent.run(f'What is the duration of all three playlists combined? Here are the links to the playlists: {playlist_urls[0]} and {playlist_urls[1]} and {playlist_urls[2]}')"
      ]
    }
  ],
  "metadata": {
    "colab": {
      "provenance": []
    },
    "kernelspec": {
      "display_name": "Python 3",
      "name": "python3"
    },
    "language_info": {
      "name": "python"
    }
  },
  "nbformat": 4,
  "nbformat_minor": 0
}
